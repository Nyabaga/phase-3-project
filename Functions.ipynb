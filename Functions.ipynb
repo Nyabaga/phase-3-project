{
 "cells": [
  {
   "cell_type": "markdown",
   "id": "2e0321d1",
   "metadata": {},
   "source": [
    "### Function for loading data"
   ]
  },
  {
   "cell_type": "code",
   "execution_count": 7,
   "id": "ec6cf45c",
   "metadata": {},
   "outputs": [],
   "source": [
    "import pandas as pd\n",
    "def load_data(data_path):\n",
    "    df = pd.read_csv(data_path)\n",
    "    \n",
    "    # Display the head of the DataFrame\n",
    "    print(\"Head:\")\n",
    "    print(df.head())\n",
    "    print()\n",
    "    \n",
    "    # Display the shape of the DataFrame\n",
    "    print(\"Shape:\")\n",
    "    print(df.shape)\n",
    "    print()\n",
    "    \n",
    "    # Display the info of the DataFrame\n",
    "    print(\"Info:\")\n",
    "    print(df.info())\n",
    "    print()\n",
    "    \n",
    "    return df"
   ]
  },
  {
   "cell_type": "code",
   "execution_count": null,
   "id": "6c94af70",
   "metadata": {},
   "outputs": [],
   "source": []
  }
 ],
 "metadata": {
  "kernelspec": {
   "display_name": "Python (learn-env)",
   "language": "python",
   "name": "learn-env"
  },
  "language_info": {
   "codemirror_mode": {
    "name": "ipython",
    "version": 3
   },
   "file_extension": ".py",
   "mimetype": "text/x-python",
   "name": "python",
   "nbconvert_exporter": "python",
   "pygments_lexer": "ipython3",
   "version": "3.11.5"
  }
 },
 "nbformat": 4,
 "nbformat_minor": 5
}
