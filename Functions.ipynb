{
 "cells": [
  {
   "cell_type": "markdown",
   "id": "2e0321d1",
   "metadata": {},
   "source": [
    "### Function for loading data"
   ]
  },
  {
   "cell_type": "code",
   "execution_count": 1,
   "id": "ec6cf45c",
   "metadata": {},
   "outputs": [],
   "source": [
    "import pandas as pd\n",
    "def load_data(data_path):\n",
    "    df = pd.read_csv(data_path)\n",
    "    \n",
    "    # Display the head of the DataFrame\n",
    "    print(\"Head:\")\n",
    "    print(df.head())\n",
    "    print()\n",
    "    \n",
    "    # Display the shape of the DataFrame\n",
    "    print(\"Shape:\")\n",
    "    print(df.shape)\n",
    "    print()\n",
    "    \n",
    "    # Display the info of the DataFrame\n",
    "    print(\"Info:\")\n",
    "    print(df.info())\n",
    "    print()\n",
    "    \n",
    "    return df"
   ]
  },
  {
   "cell_type": "code",
   "execution_count": 2,
   "id": "6c94af70",
   "metadata": {},
   "outputs": [],
   "source": [
    "def model_val(model,X,y):\n",
    "    X_train,X_test,y_train,y_test=train_test_split(X,y,test_size=0.2,random_state=42)\n",
    "    model.fit(X_train,y_train)\n",
    "    y_pred=model.predict(X_test)\n",
    "    print(f'{model}accuracy is {accuracy_score(y_test,y_pred)}')\n",
    "    \n",
    "    score=cross_val_score(model,X,y,cv=5)\n",
    "    print(f'{model} Avg cross val score is {np.mean(score)}')\n",
    "    model_df[model]=round(np.mean(score)*100,2)"
   ]
  },
  {
   "cell_type": "code",
   "execution_count": null,
   "id": "c863333c",
   "metadata": {},
   "outputs": [],
   "source": []
  }
 ],
 "metadata": {
  "kernelspec": {
   "display_name": "Python (learn-env)",
   "language": "python",
   "name": "learn-env"
  },
  "language_info": {
   "codemirror_mode": {
    "name": "ipython",
    "version": 3
   },
   "file_extension": ".py",
   "mimetype": "text/x-python",
   "name": "python",
   "nbconvert_exporter": "python",
   "pygments_lexer": "ipython3",
   "version": "3.11.5"
  }
 },
 "nbformat": 4,
 "nbformat_minor": 5
}
