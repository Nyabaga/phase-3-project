{
 "cells": [
  {
   "cell_type": "markdown",
   "id": "2e0321d1",
   "metadata": {},
   "source": [
    "### Function for loading data"
   ]
  },
  {
   "cell_type": "code",
   "execution_count": 1,
   "id": "ec6cf45c",
   "metadata": {},
   "outputs": [],
   "source": [
    "def load_data(data):\n",
    "    Df=pd.read_csv(data)\n",
    "    #-------head---------\n",
    "    head= Df.head()\n",
    "    #-------describe-----\n",
    "    shape= Df.shape\n",
    "    #-------info---------\n",
    "    info= Df.info()\n",
    "    #-------output------\n",
    "    output= {\n",
    "        'head:':head,\n",
    "        'shape:':shape,\n",
    "        'info:':info\n",
    "    }\n",
    "    return output"
   ]
  },
  {
   "cell_type": "code",
   "execution_count": null,
   "id": "6c94af70",
   "metadata": {},
   "outputs": [],
   "source": []
  }
 ],
 "metadata": {
  "kernelspec": {
   "display_name": "Python (learn-env)",
   "language": "python",
   "name": "learn-env"
  },
  "language_info": {
   "codemirror_mode": {
    "name": "ipython",
    "version": 3
   },
   "file_extension": ".py",
   "mimetype": "text/x-python",
   "name": "python",
   "nbconvert_exporter": "python",
   "pygments_lexer": "ipython3",
   "version": "3.11.5"
  }
 },
 "nbformat": 4,
 "nbformat_minor": 5
}
