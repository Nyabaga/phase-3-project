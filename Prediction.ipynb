{
 "cells": [
  {
   "cell_type": "markdown",
   "id": "4c9b19a0",
   "metadata": {},
   "source": [
    "### Business Understanding\n",
    "Project Idea: Develop a model to predict whether a loan will be paid back or defaulted using the LendingClub dataset.\n",
    "Design a system to predict whether borrowers will repay their loans or not, based on their information and the loan details.\n",
    "Construct a classification system to estimate the probability of loan default based on borrower and loan details.\n",
    "#### objectives\n",
    "1. Data Collection\n",
    "2. Data Preprocessing\n",
    "3. Exploratory Data Analysis (EDA)\n",
    "4. Feature Engineering\n",
    "5. Modeling\n",
    "6. Evaluation\n",
    "7. Conclusion"
   ]
  },
  {
   "cell_type": "markdown",
   "id": "63e6d515",
   "metadata": {},
   "source": [
    "### Data Understanding\n",
    "LendingClub dataset: Available on Kaggle."
   ]
  },
  {
   "cell_type": "markdown",
   "id": "c1bb3a6b",
   "metadata": {},
   "source": [
    "### Load data"
   ]
  },
  {
   "cell_type": "code",
   "execution_count": null,
   "id": "09e7f9f3",
   "metadata": {},
   "outputs": [],
   "source": [
    "import pandas as pd\n",
    "\n",
    "# Load the dataset\n",
    "data = pd.read_csv('lending_club_loan_data.csv')\n"
   ]
  },
  {
   "cell_type": "markdown",
   "id": "dac9c28f",
   "metadata": {},
   "source": [
    "### Preprocess the data"
   ]
  },
  {
   "cell_type": "code",
   "execution_count": null,
   "id": "eac96d8e",
   "metadata": {},
   "outputs": [],
   "source": [
    "# Handling missing values\n",
    "data = data.dropna()\n",
    "\n",
    "# Encoding categorical variables\n",
    "data = pd.get_dummies(data, drop_first=True)\n",
    "\n",
    "# Normalizing numerical features\n",
    "from sklearn.preprocessing import StandardScaler\n",
    "\n",
    "scaler = StandardScaler()\n",
    "data_scaled = scaler.fit_transform(data)\n"
   ]
  },
  {
   "cell_type": "markdown",
   "id": "3e09e801",
   "metadata": {},
   "source": [
    "### EDA"
   ]
  },
  {
   "cell_type": "code",
   "execution_count": null,
   "id": "5bfc9cd0",
   "metadata": {},
   "outputs": [],
   "source": [
    "import matplotlib.pyplot as plt\n",
    "import seaborn as sns\n",
    "\n",
    "# Distribution of target variable\n",
    "sns.countplot(data['loan_status'])\n",
    "plt.show()\n",
    "\n",
    "# Correlation matrix\n",
    "plt.figure(figsize=(10, 8))\n",
    "sns.heatmap(data.corr(), annot=True, fmt='.2f', cmap='coolwarm')\n",
    "plt.show()\n"
   ]
  },
  {
   "cell_type": "markdown",
   "id": "f7a59145",
   "metadata": {},
   "source": [
    "### Feature Engineering"
   ]
  },
  {
   "cell_type": "code",
   "execution_count": null,
   "id": "9ac1bb89",
   "metadata": {},
   "outputs": [],
   "source": [
    "# Feature selection based on correlation\n",
    "correlation = data.corr()\n",
    "target_corr = correlation['loan_status'].abs().sort_values(ascending=False)\n",
    "important_features = target_corr[target_corr > 0.1].index\n",
    "\n",
    "data = data[important_features]\n"
   ]
  },
  {
   "cell_type": "markdown",
   "id": "dde93fc3",
   "metadata": {},
   "source": [
    "### Modeling"
   ]
  },
  {
   "cell_type": "code",
   "execution_count": null,
   "id": "b652ffe7",
   "metadata": {},
   "outputs": [],
   "source": [
    "from sklearn.model_selection import train_test_split\n",
    "from sklearn.linear_model import LogisticRegression\n",
    "from sklearn.ensemble import RandomForestClassifier, GradientBoostingClassifier\n",
    "import xgboost as xgb\n",
    "\n",
    "# Split data\n",
    "X = data.drop('loan_status', axis=1)\n",
    "y = data['loan_status']\n",
    "\n",
    "X_train, X_test, y_train, y_test = train_test_split(X, y, test_size=0.2, random_state=42)\n",
    "\n",
    "# Logistic Regression\n",
    "log_reg = LogisticRegression()\n",
    "log_reg.fit(X_train, y_train)\n",
    "\n",
    "# Random Forest\n",
    "rf = RandomForestClassifier()\n",
    "rf.fit(X_train, y_train)\n",
    "\n",
    "# Gradient Boosting\n",
    "gb = GradientBoostingClassifier()\n",
    "gb.fit(X_train, y_train)\n",
    "\n",
    "# XGBoost\n",
    "xgb_model = xgb.XGBClassifier()\n",
    "xgb_model.fit(X_train, y_train)\n"
   ]
  },
  {
   "cell_type": "markdown",
   "id": "800dabe0",
   "metadata": {},
   "source": [
    "### Evaluate model performance"
   ]
  },
  {
   "cell_type": "code",
   "execution_count": null,
   "id": "366ad44c",
   "metadata": {},
   "outputs": [],
   "source": [
    "from sklearn.metrics import classification_report, roc_auc_score\n",
    "\n",
    "# Logistic Regression\n",
    "y_pred_log_reg = log_reg.predict(X_test)\n",
    "print('Logistic Regression')\n",
    "print(classification_report(y_test, y_pred_log_reg))\n",
    "print('AUC-ROC:', roc_auc_score(y_test, log_reg.predict_proba(X_test)[:, 1]))\n",
    "\n",
    "# Random Forest\n",
    "y_pred_rf = rf.predict(X_test)\n",
    "print('Random Forest')\n",
    "print(classification_report(y_test, y_pred_rf))\n",
    "print('AUC-ROC:', roc_auc_score(y_test, rf.predict_proba(X_test)[:, 1]))\n",
    "\n",
    "# Gradient Boosting\n",
    "y_pred_gb = gb.predict(X_test)\n",
    "print('Gradient Boosting')\n",
    "print(classification_report(y_test, y_pred_gb))\n",
    "print('AUC-ROC:', roc_auc_score(y_test, gb.predict_proba(X_test)[:, 1]))\n",
    "\n",
    "# XGBoost\n",
    "y_pred_xgb = xgb_model.predict(X_test)\n",
    "print('XGBoost')\n",
    "print(classification_report(y_test, y_pred_xgb))\n",
    "print('AUC-ROC:', roc_auc_score(y_test, xgb_model.predict_proba(X_test)[:, 1]))\n"
   ]
  },
  {
   "cell_type": "markdown",
   "id": "1719de24",
   "metadata": {},
   "source": [
    "### Report findings"
   ]
  },
  {
   "cell_type": "code",
   "execution_count": null,
   "id": "9f8cd02a",
   "metadata": {},
   "outputs": [],
   "source": []
  }
 ],
 "metadata": {
  "kernelspec": {
   "display_name": "Python (learn-env)",
   "language": "python",
   "name": "learn-env"
  },
  "language_info": {
   "codemirror_mode": {
    "name": "ipython",
    "version": 3
   },
   "file_extension": ".py",
   "mimetype": "text/x-python",
   "name": "python",
   "nbconvert_exporter": "python",
   "pygments_lexer": "ipython3",
   "version": "3.11.5"
  }
 },
 "nbformat": 4,
 "nbformat_minor": 5
}
